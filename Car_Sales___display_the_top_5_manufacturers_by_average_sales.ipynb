{
  "nbformat": 4,
  "nbformat_minor": 0,
  "metadata": {
    "colab": {
      "provenance": [],
      "mount_file_id": "1nmXV25U6uOIyzyB4GyBh-J_ak5qhImnZ",
      "authorship_tag": "ABX9TyMmWCHdVxk/L4VyHqEy7AY+",
      "include_colab_link": true
    },
    "kernelspec": {
      "name": "python3",
      "display_name": "Python 3"
    },
    "language_info": {
      "name": "python"
    }
  },
  "cells": [
    {
      "cell_type": "markdown",
      "metadata": {
        "id": "view-in-github",
        "colab_type": "text"
      },
      "source": [
        "<a href=\"https://colab.research.google.com/github/Mangai2024/Mangai2024/blob/main/Car_Sales___display_the_top_5_manufacturers_by_average_sales.ipynb\" target=\"_parent\"><img src=\"https://colab.research.google.com/assets/colab-badge.svg\" alt=\"Open In Colab\"/></a>"
      ]
    },
    {
      "cell_type": "markdown",
      "source": [
        "How can you calculate the average sales for each manufacturer and display the top 5 manufacturers by average sales"
      ],
      "metadata": {
        "id": "tR1pkbRS5J3L"
      }
    },
    {
      "cell_type": "code",
      "source": [
        "import pandas as pd"
      ],
      "metadata": {
        "id": "GqP_4s9z9PzE"
      },
      "execution_count": 13,
      "outputs": []
    },
    {
      "cell_type": "code",
      "source": [
        "df=pd.read_csv('/content/drive/MyDrive/Python /Car_sales.csv')"
      ],
      "metadata": {
        "id": "b5byhhdpBBBk"
      },
      "execution_count": 14,
      "outputs": []
    },
    {
      "cell_type": "code",
      "source": [
        "df.groupby(\"Manufacturer\")"
      ],
      "metadata": {
        "colab": {
          "base_uri": "https://localhost:8080/"
        },
        "id": "GoWRgWpY6spD",
        "outputId": "e0239242-b99e-4ced-84fa-07df7ad4be36"
      },
      "execution_count": 15,
      "outputs": [
        {
          "output_type": "execute_result",
          "data": {
            "text/plain": [
              "<pandas.core.groupby.generic.DataFrameGroupBy object at 0x7fc4228c3820>"
            ]
          },
          "metadata": {},
          "execution_count": 15
        }
      ]
    },
    {
      "cell_type": "code",
      "source": [
        "df.groupby(\"Manufacturer\")[\"Sales_in_thousands\"]"
      ],
      "metadata": {
        "colab": {
          "base_uri": "https://localhost:8080/"
        },
        "id": "T8OpCg258vnK",
        "outputId": "3a310fc7-bd60-469a-f362-304cf2332a83"
      },
      "execution_count": 16,
      "outputs": [
        {
          "output_type": "execute_result",
          "data": {
            "text/plain": [
              "<pandas.core.groupby.generic.SeriesGroupBy object at 0x7fc4228c3010>"
            ]
          },
          "metadata": {},
          "execution_count": 16
        }
      ]
    },
    {
      "cell_type": "code",
      "source": [
        "df.groupby(\"Manufacturer\")[\"Sales_in_thousands\"].mean()"
      ],
      "metadata": {
        "colab": {
          "base_uri": "https://localhost:8080/",
          "height": 1000
        },
        "collapsed": true,
        "id": "w5KZ5_8-9dtl",
        "outputId": "f8ec9609-fc9b-4bee-d8e5-3ea0a5dd2293"
      },
      "execution_count": 19,
      "outputs": [
        {
          "output_type": "execute_result",
          "data": {
            "text/plain": [
              "Manufacturer\n",
              "Acura          19.751250\n",
              "Audi           13.519000\n",
              "BMW            15.501667\n",
              "Buick          60.504750\n",
              "Cadillac       22.435600\n",
              "Chevrolet      61.596111\n",
              "Chrysler       28.817286\n",
              "Dodge          82.740818\n",
              "Ford          183.875909\n",
              "Honda         118.534800\n",
              "Hyundai        45.775333\n",
              "Infiniti       23.713000\n",
              "Jaguar         15.467000\n",
              "Jeep           97.717667\n",
              "Lexus          17.807167\n",
              "Lincoln        28.544667\n",
              "Mercedes-B     13.013889\n",
              "Mercury        39.666500\n",
              "Mitsubishi     25.842143\n",
              "Nissan         57.090714\n",
              "Oldsmobile     29.831500\n",
              "Plymouth       16.000250\n",
              "Pontiac        61.755667\n",
              "Porsche         4.042667\n",
              "Saab           10.653000\n",
              "Saturn         33.770000\n",
              "Subaru         40.067500\n",
              "Toyota         82.245000\n",
              "Volkswagen     34.868667\n",
              "Volvo          12.623333\n",
              "Name: Sales_in_thousands, dtype: float64"
            ],
            "text/html": [
              "<div>\n",
              "<style scoped>\n",
              "    .dataframe tbody tr th:only-of-type {\n",
              "        vertical-align: middle;\n",
              "    }\n",
              "\n",
              "    .dataframe tbody tr th {\n",
              "        vertical-align: top;\n",
              "    }\n",
              "\n",
              "    .dataframe thead th {\n",
              "        text-align: right;\n",
              "    }\n",
              "</style>\n",
              "<table border=\"1\" class=\"dataframe\">\n",
              "  <thead>\n",
              "    <tr style=\"text-align: right;\">\n",
              "      <th></th>\n",
              "      <th>Sales_in_thousands</th>\n",
              "    </tr>\n",
              "    <tr>\n",
              "      <th>Manufacturer</th>\n",
              "      <th></th>\n",
              "    </tr>\n",
              "  </thead>\n",
              "  <tbody>\n",
              "    <tr>\n",
              "      <th>Acura</th>\n",
              "      <td>19.751250</td>\n",
              "    </tr>\n",
              "    <tr>\n",
              "      <th>Audi</th>\n",
              "      <td>13.519000</td>\n",
              "    </tr>\n",
              "    <tr>\n",
              "      <th>BMW</th>\n",
              "      <td>15.501667</td>\n",
              "    </tr>\n",
              "    <tr>\n",
              "      <th>Buick</th>\n",
              "      <td>60.504750</td>\n",
              "    </tr>\n",
              "    <tr>\n",
              "      <th>Cadillac</th>\n",
              "      <td>22.435600</td>\n",
              "    </tr>\n",
              "    <tr>\n",
              "      <th>Chevrolet</th>\n",
              "      <td>61.596111</td>\n",
              "    </tr>\n",
              "    <tr>\n",
              "      <th>Chrysler</th>\n",
              "      <td>28.817286</td>\n",
              "    </tr>\n",
              "    <tr>\n",
              "      <th>Dodge</th>\n",
              "      <td>82.740818</td>\n",
              "    </tr>\n",
              "    <tr>\n",
              "      <th>Ford</th>\n",
              "      <td>183.875909</td>\n",
              "    </tr>\n",
              "    <tr>\n",
              "      <th>Honda</th>\n",
              "      <td>118.534800</td>\n",
              "    </tr>\n",
              "    <tr>\n",
              "      <th>Hyundai</th>\n",
              "      <td>45.775333</td>\n",
              "    </tr>\n",
              "    <tr>\n",
              "      <th>Infiniti</th>\n",
              "      <td>23.713000</td>\n",
              "    </tr>\n",
              "    <tr>\n",
              "      <th>Jaguar</th>\n",
              "      <td>15.467000</td>\n",
              "    </tr>\n",
              "    <tr>\n",
              "      <th>Jeep</th>\n",
              "      <td>97.717667</td>\n",
              "    </tr>\n",
              "    <tr>\n",
              "      <th>Lexus</th>\n",
              "      <td>17.807167</td>\n",
              "    </tr>\n",
              "    <tr>\n",
              "      <th>Lincoln</th>\n",
              "      <td>28.544667</td>\n",
              "    </tr>\n",
              "    <tr>\n",
              "      <th>Mercedes-B</th>\n",
              "      <td>13.013889</td>\n",
              "    </tr>\n",
              "    <tr>\n",
              "      <th>Mercury</th>\n",
              "      <td>39.666500</td>\n",
              "    </tr>\n",
              "    <tr>\n",
              "      <th>Mitsubishi</th>\n",
              "      <td>25.842143</td>\n",
              "    </tr>\n",
              "    <tr>\n",
              "      <th>Nissan</th>\n",
              "      <td>57.090714</td>\n",
              "    </tr>\n",
              "    <tr>\n",
              "      <th>Oldsmobile</th>\n",
              "      <td>29.831500</td>\n",
              "    </tr>\n",
              "    <tr>\n",
              "      <th>Plymouth</th>\n",
              "      <td>16.000250</td>\n",
              "    </tr>\n",
              "    <tr>\n",
              "      <th>Pontiac</th>\n",
              "      <td>61.755667</td>\n",
              "    </tr>\n",
              "    <tr>\n",
              "      <th>Porsche</th>\n",
              "      <td>4.042667</td>\n",
              "    </tr>\n",
              "    <tr>\n",
              "      <th>Saab</th>\n",
              "      <td>10.653000</td>\n",
              "    </tr>\n",
              "    <tr>\n",
              "      <th>Saturn</th>\n",
              "      <td>33.770000</td>\n",
              "    </tr>\n",
              "    <tr>\n",
              "      <th>Subaru</th>\n",
              "      <td>40.067500</td>\n",
              "    </tr>\n",
              "    <tr>\n",
              "      <th>Toyota</th>\n",
              "      <td>82.245000</td>\n",
              "    </tr>\n",
              "    <tr>\n",
              "      <th>Volkswagen</th>\n",
              "      <td>34.868667</td>\n",
              "    </tr>\n",
              "    <tr>\n",
              "      <th>Volvo</th>\n",
              "      <td>12.623333</td>\n",
              "    </tr>\n",
              "  </tbody>\n",
              "</table>\n",
              "</div><br><label><b>dtype:</b> float64</label>"
            ]
          },
          "metadata": {},
          "execution_count": 19
        }
      ]
    },
    {
      "cell_type": "code",
      "source": [],
      "metadata": {
        "id": "Gi_KAvlbJKTq"
      },
      "execution_count": null,
      "outputs": []
    },
    {
      "cell_type": "code",
      "source": [
        "def top_manufacturers_by_avg_sales(data, n=5):\n",
        "  data                                        #Parameters:data(pd.DataFrame): The car sales dataset.\n",
        "                                              #n (int): The number of top manufacturers to return.\n",
        "  avg_sales= data.groupby(\"Manufacturer\")[\"Sales_in_thousands\"].mean()\n",
        "  return avg_sales.sort_values(ascending=False).head(n).reset_index().rename(columns={\"Sales_in_thousands\": \"Average_Sales\"})\n",
        "  top_5_manufacturers = top_manufacturers_by_avg_sales(car_sales_data, 5)\n"
      ],
      "metadata": {
        "id": "rAnxDrFqIerT"
      },
      "execution_count": 33,
      "outputs": []
    },
    {
      "cell_type": "code",
      "source": [
        "print(top_5_manufacturers)"
      ],
      "metadata": {
        "colab": {
          "base_uri": "https://localhost:8080/"
        },
        "id": "J8EdDQYPKIKg",
        "outputId": "74f4b892-3046-4a97-96b3-1729e8beed64"
      },
      "execution_count": 34,
      "outputs": [
        {
          "output_type": "stream",
          "name": "stdout",
          "text": [
            "  Manufacturer  Average_Sales\n",
            "0         Ford     183.875909\n",
            "1        Honda     118.534800\n",
            "2         Jeep      97.717667\n",
            "3        Dodge      82.740818\n",
            "4       Toyota      82.245000\n"
          ]
        }
      ]
    },
    {
      "cell_type": "code",
      "source": [],
      "metadata": {
        "id": "BDkb5nhyCd4a"
      },
      "execution_count": 27,
      "outputs": []
    }
  ]
}